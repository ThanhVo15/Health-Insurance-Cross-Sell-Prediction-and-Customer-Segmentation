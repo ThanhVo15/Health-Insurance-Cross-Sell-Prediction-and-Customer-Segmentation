{
  "cells": [
    {
      "cell_type": "markdown",
      "metadata": {
        "id": "WfVvt3EqTn_d"
      },
      "source": [
        "#I. IMPORT REQUIRED LIBRARIES"
      ]
    },
    {
      "cell_type": "code",
      "execution_count": null,
      "metadata": {
        "colab": {
          "base_uri": "https://localhost:8080/"
        },
        "id": "jkvF3LGXRp5T",
        "outputId": "7f2f1709-1ba2-46e6-a914-bdcc9066d8cd"
      },
      "outputs": [
        {
          "name": "stdout",
          "output_type": "stream",
          "text": [
            "Collecting catboost\n",
            "  Downloading catboost-1.2.3-cp310-cp310-manylinux2014_x86_64.whl (98.5 MB)\n",
            "\u001b[2K     \u001b[90m━━━━━━━━━━━━━━━━━━━━━━━━━━━━━━━━━━━━━━━━\u001b[0m \u001b[32m98.5/98.5 MB\u001b[0m \u001b[31m7.6 MB/s\u001b[0m eta \u001b[36m0:00:00\u001b[0m\n",
            "\u001b[?25hRequirement already satisfied: graphviz in /usr/local/lib/python3.10/dist-packages (from catboost) (0.20.1)\n",
            "Requirement already satisfied: matplotlib in /usr/local/lib/python3.10/dist-packages (from catboost) (3.7.1)\n",
            "Requirement already satisfied: numpy>=1.16.0 in /usr/local/lib/python3.10/dist-packages (from catboost) (1.25.2)\n",
            "Requirement already satisfied: pandas>=0.24 in /usr/local/lib/python3.10/dist-packages (from catboost) (1.5.3)\n",
            "Requirement already satisfied: scipy in /usr/local/lib/python3.10/dist-packages (from catboost) (1.11.4)\n",
            "Requirement already satisfied: plotly in /usr/local/lib/python3.10/dist-packages (from catboost) (5.15.0)\n",
            "Requirement already satisfied: six in /usr/local/lib/python3.10/dist-packages (from catboost) (1.16.0)\n",
            "Requirement already satisfied: python-dateutil>=2.8.1 in /usr/local/lib/python3.10/dist-packages (from pandas>=0.24->catboost) (2.8.2)\n",
            "Requirement already satisfied: pytz>=2020.1 in /usr/local/lib/python3.10/dist-packages (from pandas>=0.24->catboost) (2023.4)\n",
            "Requirement already satisfied: contourpy>=1.0.1 in /usr/local/lib/python3.10/dist-packages (from matplotlib->catboost) (1.2.0)\n",
            "Requirement already satisfied: cycler>=0.10 in /usr/local/lib/python3.10/dist-packages (from matplotlib->catboost) (0.12.1)\n",
            "Requirement already satisfied: fonttools>=4.22.0 in /usr/local/lib/python3.10/dist-packages (from matplotlib->catboost) (4.49.0)\n",
            "Requirement already satisfied: kiwisolver>=1.0.1 in /usr/local/lib/python3.10/dist-packages (from matplotlib->catboost) (1.4.5)\n",
            "Requirement already satisfied: packaging>=20.0 in /usr/local/lib/python3.10/dist-packages (from matplotlib->catboost) (23.2)\n",
            "Requirement already satisfied: pillow>=6.2.0 in /usr/local/lib/python3.10/dist-packages (from matplotlib->catboost) (9.4.0)\n",
            "Requirement already satisfied: pyparsing>=2.3.1 in /usr/local/lib/python3.10/dist-packages (from matplotlib->catboost) (3.1.2)\n",
            "Requirement already satisfied: tenacity>=6.2.0 in /usr/local/lib/python3.10/dist-packages (from plotly->catboost) (8.2.3)\n",
            "Installing collected packages: catboost\n",
            "Successfully installed catboost-1.2.3\n"
          ]
        }
      ],
      "source": [
        "# Basic Libraries\n",
        "import pandas as pd\n",
        "import numpy as np\n",
        "import time\n",
        "import pickle\n",
        "\n",
        "# Machine Learning Model\n",
        "!pip install catboost\n",
        "from catboost import CatBoostClassifier\n",
        "\n",
        "# Model Evaluation Metrics\n",
        "from sklearn.metrics import (accuracy_score, f1_score, log_loss)\n",
        "\n",
        "# Learning curve\n",
        "import matplotlib.pyplot as plt\n",
        "from sklearn.model_selection import learning_curve\n",
        "from sklearn.metrics import make_scorer, accuracy_score\n",
        "\n",
        "from sklearn.model_selection import train_test_split"
      ]
    },
    {
      "cell_type": "markdown",
      "metadata": {
        "id": "R0E1VZfBUL58"
      },
      "source": [
        "#II. UPLOAD DATA"
      ]
    },
    {
      "cell_type": "code",
      "execution_count": null,
      "metadata": {
        "id": "XpQgwcDcVQk9"
      },
      "outputs": [],
      "source": [
        "train_org = pd.read_csv(\"cluster_result.csv\")\n",
        "train = train_org.copy()"
      ]
    },
    {
      "cell_type": "markdown",
      "metadata": {
        "id": "gihmIdBeXfW7"
      },
      "source": [
        "* The classification process began with utilizing training datasets, where the training data were the result of the mentioned clustering process (cluster_result.csv)."
      ]
    },
    {
      "cell_type": "markdown",
      "metadata": {
        "id": "QKbQZ62KVkNK"
      },
      "source": [
        "# III. TRAIN ML MODEL AND CROSS-VALIDATION"
      ]
    },
    {
      "cell_type": "code",
      "execution_count": null,
      "metadata": {
        "id": "kmpWJTAsJHTA"
      },
      "outputs": [],
      "source": [
        "def result_CatBoost(X_train, y_train, X_valid, y_valid):\n",
        "    start_time = time.time()\n",
        "\n",
        "    # Initialize CatBoost mode\n",
        "    catboost_model = CatBoostClassifier(iterations=500, learning_rate=0.05, l2_leaf_reg=3, early_stopping_rounds = 10, verbose=100, random_state=42)\n",
        "\n",
        "    # Train the CatBoost model\n",
        "    catboost_model.fit(X_train, y_train)\n",
        "\n",
        "    # Predict probabilities for each class on the validation set\n",
        "    y_pred_proba = catboost_model.predict_proba(X_valid)\n",
        "\n",
        "    # Predict the class on the validation set\n",
        "    y_pred = catboost_model.predict(X_valid)\n",
        "\n",
        "    # Accuracy\n",
        "    accuracy = accuracy_score(y_valid, y_pred)\n",
        "\n",
        "    # F1-Score\n",
        "    f1 = f1_score(y_valid, y_pred, average='macro')\n",
        "\n",
        "    # Log oss\n",
        "    logloss = log_loss(y_valid, y_pred_proba)\n",
        "\n",
        "    end_time = time.time()\n",
        "    execution_time = end_time - start_time\n",
        "\n",
        "    print('Accuracy using Soft Voting: %.3f' % accuracy)\n",
        "    print('F1 Score using Soft Voting: %.3f' % f1)\n",
        "    print('Log Loss using Soft Voting: %.3f' % logloss)\n",
        "    print(\"Thời gian thực thi:\", time.strftime(\"%H:%M:%S\", time.gmtime(execution_time)))\n",
        "    return catboost_model"
      ]
    },
    {
      "cell_type": "markdown",
      "metadata": {
        "id": "1vaqHisLXx0g"
      },
      "source": [
        "* The CatBoostClassifier, a leading Machine Learning algorithm known for handling categorical data without complex preprocessing and delivering high prediction accuracy, was selected for training.\n",
        "* Configured with 500 iterations, a learning rate of 0.05, and l2_leaf_reg to control overfitting, the model also applied early stopping after 10 rounds of no improvement to optimize training."
      ]
    },
    {
      "cell_type": "code",
      "execution_count": null,
      "metadata": {
        "id": "X5wkiZ36WO8X"
      },
      "outputs": [],
      "source": [
        "target_column = 'Cluster_Id'\n",
        "y = train[target_column]\n",
        "X = train.drop(target_column, axis=1)"
      ]
    },
    {
      "cell_type": "code",
      "execution_count": null,
      "metadata": {
        "id": "BWn99s5MXkzB"
      },
      "outputs": [],
      "source": [
        "# Train and test a model on processed data\n",
        "X_train, X_valid, y_train, y_valid = train_test_split(X, y, test_size=0.2, random_state=42)"
      ]
    },
    {
      "cell_type": "markdown",
      "metadata": {
        "id": "pgonZ5MyX0az"
      },
      "source": [
        "* The dataset designated for training purposes is partitioned in such a manner that 80% is allocated for the training phase, while the remaining 20% is earmarked for cross-validation processes.\n",
        "* This divisional schema is predicated upon the premise that it represents the most optimal ratio for such purposes."
      ]
    },
    {
      "cell_type": "code",
      "execution_count": null,
      "metadata": {
        "colab": {
          "base_uri": "https://localhost:8080/"
        },
        "id": "I-C_MdoBJzSA",
        "outputId": "dceb57bb-2d48-4126-afdc-bebb91fc37ed"
      },
      "outputs": [
        {
          "name": "stdout",
          "output_type": "stream",
          "text": [
            "0:\tlearn: 1.5506325\ttotal: 300ms\tremaining: 2m 29s\n",
            "100:\tlearn: 0.0137071\ttotal: 21.7s\tremaining: 1m 25s\n",
            "200:\tlearn: 0.0077818\ttotal: 43.9s\tremaining: 1m 5s\n",
            "300:\tlearn: 0.0073233\ttotal: 1m 3s\tremaining: 41.9s\n",
            "400:\tlearn: 0.0070923\ttotal: 1m 23s\tremaining: 20.6s\n",
            "499:\tlearn: 0.0069289\ttotal: 1m 43s\tremaining: 0us\n",
            "Accuracy using Soft Voting: 0.997\n",
            "F1 Score using Soft Voting: 0.996\n",
            "Log Loss using Soft Voting: 0.007\n",
            "Thời gian thực thi: 00:01:45\n"
          ]
        }
      ],
      "source": [
        "# Call the function with the corresponding data\n",
        "catboost_model = result_CatBoost(X_train, y_train, X_valid, y_valid)"
      ]
    },
    {
      "cell_type": "markdown",
      "metadata": {
        "id": "Jht3o-c4Yg3b"
      },
      "source": [
        "* Post-training, the model's performance on the cross-validation dataset was evaluated using Accuracy, F1-Score, and Log-loss metrics, showcasing CatBoost's impressive ability to accurately classify customer groups, aiding in effective cross-selling of insurance products."
      ]
    },
    {
      "cell_type": "markdown",
      "metadata": {
        "id": "FEV7H3xzWRdE"
      },
      "source": [
        "# IV. SAVE THE TRAINED MODEL"
      ]
    },
    {
      "cell_type": "code",
      "execution_count": null,
      "metadata": {
        "colab": {
          "base_uri": "https://localhost:8080/"
        },
        "id": "YTsrPuPHL9cO",
        "outputId": "94bdd307-3432-454d-ea0f-2b0eda4e2fff"
      },
      "outputs": [
        {
          "name": "stdout",
          "output_type": "stream",
          "text": [
            "Model saved to trained_catboost_classifier.pkl\n"
          ]
        }
      ],
      "source": [
        "model_filename = 'trained_catboost_classifier.pkl'\n",
        "\n",
        "# Pickle the trained model\n",
        "with open(model_filename, 'wb') as file:\n",
        "    pickle.dump(catboost_model, file)\n",
        "\n",
        "print(f\"Model saved to {model_filename}\")"
      ]
    },
    {
      "cell_type": "markdown",
      "metadata": {
        "id": "dDaymh-tMQg0"
      },
      "source": [
        "# V. APPLY INTO TEST DATASET"
      ]
    },
    {
      "cell_type": "code",
      "execution_count": null,
      "metadata": {
        "id": "qe9a3q1WMO9v"
      },
      "outputs": [],
      "source": [
        "# Load the pickled model\n",
        "with open(model_filename, 'rb') as file:\n",
        "    loaded_model = pickle.load(file)"
      ]
    },
    {
      "cell_type": "code",
      "execution_count": null,
      "metadata": {
        "id": "Atf8FfrOMeTg"
      },
      "outputs": [],
      "source": [
        "test_org = pd.read_csv('test.csv')\n",
        "test = test_org.copy()"
      ]
    },
    {
      "cell_type": "code",
      "execution_count": null,
      "metadata": {
        "id": "9b9BILBgOte3"
      },
      "outputs": [],
      "source": [
        "columns_to_keep = ['id', 'Previously_Insured', 'Vehicle_Age', 'Vehicle_Damage', 'Annual_Premium']\n",
        "df_origin = test[columns_to_keep]"
      ]
    },
    {
      "cell_type": "code",
      "execution_count": null,
      "metadata": {
        "id": "u-s4oEYEO1UW"
      },
      "outputs": [],
      "source": [
        "df = df_origin.copy()\n",
        "df['Vehicle_Age'] = df['Vehicle_Age'].replace({'< 1 Year': 1, '1-2 Year': 2, '> 2 Years': 3})\n",
        "df['Vehicle_Damage'] = df['Vehicle_Damage'].replace({'No': 0, 'Yes': 1})"
      ]
    },
    {
      "cell_type": "code",
      "execution_count": null,
      "metadata": {
        "colab": {
          "base_uri": "https://localhost:8080/"
        },
        "id": "E5BjBGp-Pmxh",
        "outputId": "42597c21-091c-4943-d944-38c87d61586c"
      },
      "outputs": [
        {
          "name": "stdout",
          "output_type": "stream",
          "text": [
            "Kết quả dự đoán đã được lưu vào 'submission_clusters.csv'.\n"
          ]
        }
      ],
      "source": [
        "y_pred_new = loaded_model.predict(df)\n",
        "y_pred_new = y_pred_new.flatten()\n",
        "\n",
        "submission_df = pd.DataFrame({\n",
        "        'id': test['id'],\n",
        "        'Cluster_ID': y_pred_new,\n",
        "    })\n",
        "\n",
        "submission_df.to_csv('submission_clusters.csv', index=False)\n",
        "\n",
        "print(\"Kết quả dự đoán đã được lưu vào 'submission_clusters.csv'.\")"
      ]
    },
    {
      "cell_type": "code",
      "execution_count": null,
      "metadata": {
        "colab": {
          "base_uri": "https://localhost:8080/"
        },
        "id": "5Zy1ukwRSIdd",
        "outputId": "7b104e46-bd18-4463-bfa2-5a13004731b1"
      },
      "outputs": [
        {
          "data": {
            "text/plain": [
              "VVIP      24405\n",
              "VIP #2    23704\n",
              "VIP #3    23372\n",
              "Common    22304\n",
              "VIP #4    18617\n",
              "VIP #1    14635\n",
              "Name: Cluster_ID, dtype: int64"
            ]
          },
          "execution_count": 15,
          "metadata": {},
          "output_type": "execute_result"
        }
      ],
      "source": [
        "test_org = pd.read_csv('submission_clusters.csv')\n",
        "test = test_org.copy()\n",
        "test['Cluster_ID'].value_counts()"
      ]
    },
    {
      "cell_type": "markdown",
      "metadata": {
        "id": "WJL5MaapWihA"
      },
      "source": [
        "# V. LEARNING CURVES"
      ]
    },
    {
      "cell_type": "code",
      "execution_count": null,
      "metadata": {
        "id": "OsVnBDHT_dCE"
      },
      "outputs": [],
      "source": [
        "def plot_learning_curves(model, X_train, y_train, title=\"Learning Curves\"):\n",
        "    # Define the sizes of the training set and create learning curves\n",
        "    train_sizes, train_scores, test_scores = learning_curve(\n",
        "        model, X_train, y_train, cv=10, scoring=make_scorer(accuracy_score),\n",
        "        n_jobs=-1, train_sizes=np.linspace(.1, 1.0, 5), verbose=1)\n",
        "\n",
        "    # Calculate the mean and standard deviation of training and test scoreS\n",
        "    train_scores_mean = np.mean(train_scores, axis=1)\n",
        "    train_scores_std = np.std(train_scores, axis=1)\n",
        "    test_scores_mean = np.mean(test_scores, axis=1)\n",
        "    test_scores_std = np.std(test_scores, axis=1)\n",
        "\n",
        "    plt.figure()\n",
        "    plt.title(title)\n",
        "    plt.xlabel(\"Training examples\")\n",
        "    plt.ylabel(\"Score\")\n",
        "    plt.grid()\n",
        "\n",
        "    # Plot the standard deviation\n",
        "    plt.fill_between(train_sizes, train_scores_mean - train_scores_std,\n",
        "                     train_scores_mean + train_scores_std, alpha=0.1, color=\"r\")\n",
        "    plt.fill_between(train_sizes, test_scores_mean - test_scores_std,\n",
        "                     test_scores_mean + test_scores_std, alpha=0.1, color=\"g\")\n",
        "\n",
        "    # Plot the mean scores\n",
        "    plt.plot(train_sizes, train_scores_mean, 'o-', color=\"r\", label=\"Training score\")\n",
        "    plt.plot(train_sizes, test_scores_mean, 'o-', color=\"g\", label=\"Cross-validation score\")\n",
        "\n",
        "    plt.legend(loc=\"best\")\n",
        "    return plt"
      ]
    },
    {
      "cell_type": "code",
      "execution_count": null,
      "metadata": {
        "colab": {
          "background_save": true,
          "base_uri": "https://localhost:8080/"
        },
        "id": "K4XYQFOW_iTE",
        "outputId": "6b365fe9-7c74-43a1-b992-41b06bccdf17"
      },
      "outputs": [
        {
          "name": "stdout",
          "output_type": "stream",
          "text": [
            "[learning_curve] Training set sizes: [ 27439  89179 150918 212658 274398]\n"
          ]
        },
        {
          "name": "stderr",
          "output_type": "stream",
          "text": [
            "[Parallel(n_jobs=-1)]: Using backend LokyBackend with 2 concurrent workers.\n",
            "/usr/local/lib/python3.10/dist-packages/joblib/externals/loky/process_executor.py:752: UserWarning: A worker stopped while some jobs were given to the executor. This can be caused by a too short worker timeout or by a memory leak.\n",
            "  warnings.warn(\n",
            "[Parallel(n_jobs=-1)]: Done  50 out of  50 | elapsed: 45.1min finished\n"
          ]
        },
        {
          "data": {
            "image/png": "[encoded data removed]",
            "text/plain": [
              "<Figure size 640x480 with 1 Axes>"
            ]
          },
          "metadata": {},
          "output_type": "display_data"
        }
      ],
      "source": [
        "plt = plot_learning_curves(catboost_model, X_train, y_train)\n",
        "plt.show()"
      ]
    },
    {
      "cell_type": "markdown",
      "metadata": {
        "id": "1HEljGunYoPe"
      },
      "source": [
        "* Additionally, learning curves analysis assessed the model's generalizability and potential for overfitting or underfitting. The learning curves indicated strong training performance and generalization capability on new data, with both training and cross-validation scores exceeding 0.993, indicating excellent model performance on both datasets. The close and stable scores between training and cross-validation, along with an increase in cross-validation scores with more training data, highlighted the model's effectiveness without signs of overfitting and its improved performance with additional data. However, performance plateaued after a certain point, suggesting the model had learned most necessary information from the dataset. The narrow confidence intervals around the learning curves further indicated model stability and reliability for application to new data."
      ]
    }
  ],
  "metadata": {
    "colab": {
      "provenance": []
    },
    "kernelspec": {
      "display_name": "Python 3",
      "name": "python3"
    },
    "language_info": {
      "name": "python"
    }
  },
  "nbformat": 4,
  "nbformat_minor": 0
}